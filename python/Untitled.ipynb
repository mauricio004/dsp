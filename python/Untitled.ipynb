{
 "cells": [
  {
   "cell_type": "code",
   "execution_count": null,
   "metadata": {
    "collapsed": true
   },
   "outputs": [],
   "source": [
    "# %load advanced_python_regex.py\n",
    "\n",
    "import csv\n",
    "import re\n",
    "\n",
    "\n",
    "def read_data(data):\n",
    "    \"\"\"\n",
    "    This function reads a .csv file from disk with faculty data and store it in a dictionary.\n",
    "    :param data: .csv file\n",
    "    :return: a dictionary with faculty names as keys and a dictionary with faculty info as values.\n",
    "    \"\"\"\n",
    "    # Store all data in dictionary\n",
    "    faculty_dict = {}\n",
    "\n",
    "    # Read data using DictReader function\n",
    "    try:\n",
    "        with open(data, 'rb') as f_read:\n",
    "            reader = csv.DictReader(f_read)\n",
    "            for row in reader:\n",
    "                faculty_dict[row['name']] = row\n",
    "    except Exception as err:\n",
    "        print 'Cannot read file', + str(err)\n",
    "\n",
    "    return faculty_dict\n",
    "\n",
    "# Question 1\n",
    "def get_different_degrees(data_dict):\n",
    "    \"\"\"\n",
    "    This function reads a dictionary with faculty data.  It extracts and clean the degree for each faculty member.\n",
    "    It also calculates the degree frequency for all the department.\n",
    "    :param data_dict: a dictionary with faculty names as keys and faculty info as values.\n",
    "    :return: a dictionary with all degrees as keys and their frequencies as values.\n",
    "    \"\"\"\n",
    "\n",
    "    # List with all degrees\n",
    "    all_degrees_lst = []\n",
    "\n",
    "    # Dictionary with degree as key and frequency as value\n",
    "    degrees_freq_dict = {}\n",
    "\n",
    "    # Loop over each faculty member to get degrees\n",
    "    for faculty in data_dict.values():\n",
    "        # List of degree or degrees\n",
    "        degrees = clean_text(faculty[' degree'])\n",
    "        # Check if faculty has more than one degree\n",
    "        if len(degrees) > 1:\n",
    "            for d in degrees:\n",
    "                all_degrees_lst.append(d)\n",
    "        else:\n",
    "            all_degrees_lst.append(degrees[0])\n",
    "\n",
    "    # Add degrees to dictionary and compute frequency\n",
    "    for degree in all_degrees_lst:\n",
    "        degrees_freq_dict.setdefault(degree, 0)\n",
    "        degrees_freq_dict[degree] += 1\n",
    "\n",
    "    return degrees_freq_dict\n",
    "\n",
    "\n",
    "def clean_text(txt):\n",
    "    \"\"\"\n",
    "    This function split and clean a string\n",
    "    :param txt: a string\n",
    "    :return: a list with one or more strings\n",
    "    \"\"\"\n",
    "    # List for title (len = 1) or multiple titles\n",
    "    title_lst = []\n",
    "\n",
    "    # Split when multiple titles\n",
    "    words = txt.split()\n",
    "\n",
    "    # Convert to uppercase and remove dots\n",
    "    for word in words:\n",
    "        if word != '':\n",
    "            word = word.upper()\n",
    "            word = word.replace('.', '')\n",
    "            title_lst.append(word)\n",
    "\n",
    "    return title_lst\n",
    "\n",
    "# Question 2\n",
    "def get_different_titles(data_dict):\n",
    "    \"\"\"\n",
    "    This function reads a dictionary with faculty data.  It extracts the title for each faculty member.\n",
    "    It also calculates the title frequency for all the department.\n",
    "    :param data_dict: a dictionary with faculty names as keys and faculty info as values.\n",
    "    :return: a dictionary with all titles as keys and their frequencies as values.\n",
    "    \"\"\"\n",
    "    # List with all titles\n",
    "    all_titles_lst = []\n",
    "\n",
    "    # Dictionary with title as key and frequency as value\n",
    "    titles_freq_dict = {}\n",
    "\n",
    "    # Loop over data_dict to get titles\n",
    "    for faculty in data_dict.values():\n",
    "        # Add first word of title to list e.g. Associate\n",
    "        all_titles_lst.append(faculty[' title'].split()[0])\n",
    "\n",
    "    # Add titles to dictionary and compute frequency\n",
    "    for title in all_titles_lst:\n",
    "        titles_freq_dict.setdefault(title, 0)\n",
    "        titles_freq_dict[title] += 1\n",
    "\n",
    "    return titles_freq_dict\n",
    "\n",
    "# Question 3\n",
    "def get_email_addresses(data_dict):\n",
    "    \"\"\"\n",
    "    This function reads a dictionary with faculty data.  It extracts the email for each faculty member.\n",
    "    :param data_dict: a dictionary with faculty names as keys and faculty info as values.\n",
    "    :return: a list with all emails\n",
    "    \"\"\"\n",
    "    # List with all email addresses\n",
    "    all_emails_lst = []\n",
    "\n",
    "    # Loop over data_dict to get emails\n",
    "    for faculty in data_dict.values():\n",
    "        # Add email to list\n",
    "        all_emails_lst.append(faculty[' email'])\n",
    "\n",
    "    return all_emails_lst\n",
    "\n",
    "# Question 4\n",
    "def get_email_domains(all_emails_lst):\n",
    "    \"\"\"\n",
    "    This function reads a list of emails and extract the domain for each email.\n",
    "    :param all_emails_lst: a list with emails\n",
    "    :return: a dictionary with email domains as keys and their frequencies as values.\n",
    "    \"\"\"\n",
    "    # List with all email domains\n",
    "    all_domains_lst = []\n",
    "\n",
    "    # Dictionary with email domain as key and frequency as value\n",
    "    domains_freq_dict = {}\n",
    "\n",
    "    # Loop over emails list to get domains\n",
    "    for email in all_emails_lst:\n",
    "        email_domain_match = re.search(r'@([\\w.]+)', email)\n",
    "        if email_domain_match:\n",
    "            all_domains_lst.append(email_domain_match.group(1))\n",
    "        else:\n",
    "            all_domains_lst.append('No Match')\n",
    "\n",
    "    # Add domains to dictionary and compute frequencies\n",
    "    for domain in all_domains_lst:\n",
    "        domains_freq_dict.setdefault(domain, 0)\n",
    "        domains_freq_dict[domain] += 1\n",
    "\n",
    "    return domains_freq_dict\n",
    "\n",
    "\n",
    "data_d = read_data('faculty.csv')\n",
    "# print get_different_degrees(data_d)\n",
    "# print get_different_titles(data_d)\n",
    "# print get_email_addresses(data_d)\n",
    "# email_l = get_email_addresses(data_d)\n",
    "# print get_email_domains(email_l)"
   ]
  },
  {
   "cell_type": "code",
   "execution_count": 2,
   "metadata": {
    "collapsed": false
   },
   "outputs": [
    {
     "ename": "NameError",
     "evalue": "name 'read_data' is not defined",
     "output_type": "error",
     "traceback": [
      "\u001b[0;31m---------------------------------------------------------------------------\u001b[0m",
      "\u001b[0;31mNameError\u001b[0m                                 Traceback (most recent call last)",
      "\u001b[0;32m<ipython-input-2-8e8eda02296b>\u001b[0m in \u001b[0;36m<module>\u001b[0;34m()\u001b[0m\n\u001b[0;32m----> 1\u001b[0;31m \u001b[0mdata_d\u001b[0m \u001b[0;34m=\u001b[0m \u001b[0mread_data\u001b[0m\u001b[0;34m(\u001b[0m\u001b[0;34m'faculty.csv'\u001b[0m\u001b[0;34m)\u001b[0m\u001b[0;34m\u001b[0m\u001b[0m\n\u001b[0m",
      "\u001b[0;31mNameError\u001b[0m: name 'read_data' is not defined"
     ]
    }
   ],
   "source": [
    "data_d = read_data('faculty.csv')"
   ]
  },
  {
   "cell_type": "code",
   "execution_count": 3,
   "metadata": {
    "collapsed": true
   },
   "outputs": [],
   "source": [
    "run advanced_python_regex.py"
   ]
  },
  {
   "cell_type": "code",
   "execution_count": 4,
   "metadata": {
    "collapsed": true
   },
   "outputs": [],
   "source": [
    "data_d = read_data('faculty.csv')"
   ]
  },
  {
   "cell_type": "code",
   "execution_count": 5,
   "metadata": {
    "collapsed": true
   },
   "outputs": [],
   "source": [
    "email_l = get_email_addresses(data_d)"
   ]
  },
  {
   "cell_type": "code",
   "execution_count": 6,
   "metadata": {
    "collapsed": false
   },
   "outputs": [
    {
     "data": {
      "text/plain": [
       "['liy3@email.chop.edu',\n",
       " 'mingyao@mail.med.upenn.edu',\n",
       " 'jellenbe@mail.med.upenn.edu',\n",
       " 'bcfrench@mail.med.upenn.edu',\n",
       " 'hongzhe@upenn.edu',\n",
       " 'michross@upenn.edu',\n",
       " 'knashawn@mail.med.upenn.edu',\n",
       " 'hsu9@mail.med.upenn.edu',\n",
       " 'jshults@mail.med.upenn.edu',\n",
       " 'msammel@cceb.med.upenn.edu',\n",
       " 'pgimotty@upenn.edu',\n",
       " 'sratclif@upenn.edu',\n",
       " 'wguo@mail.med.upenn.edu',\n",
       " 'warren@upenn.edu',\n",
       " 'atroxel@mail.med.upenn.edu',\n",
       " 'rlocalio@upenn.edu',\n",
       " 'dxie@upenn.edu',\n",
       " 'jrlandis@mail.med.upenn.edu',\n",
       " 'rhubb@mail.med.upenn.edu',\n",
       " 'rxiao@mail.med.upenn.edu',\n",
       " 'sellenbe@upenn.edu',\n",
       " 'jaroy@mail.med.upenn.edu',\n",
       " 'ruifeng@upenn.edu',\n",
       " 'whwang@mail.med.upenn.edu',\n",
       " 'bryanma@upenn.edu',\n",
       " 'sxie@mail.med.upenn.edu',\n",
       " 'mjoffe@mail.med.upenn.edu',\n",
       " 'rshi@mail.med.upenn.edu',\n",
       " 'jinboche@upenn.edu',\n",
       " 'bellamys@mail.med.upenn.edu',\n",
       " 'weiyang@mail.med.upenn.edu',\n",
       " 'alisaste@mail.med.upenn.edu',\n",
       " 'propert@mail.med.upenn.edu',\n",
       " 'shawp@upenn.edu',\n",
       " 'hshou@mail.med.upenn.edu',\n",
       " 'nanditam@mail.med.upenn.edu',\n",
       " 'mputt@mail.med.upenn.edu']"
      ]
     },
     "execution_count": 6,
     "metadata": {},
     "output_type": "execute_result"
    }
   ],
   "source": [
    "email_l"
   ]
  },
  {
   "cell_type": "code",
   "execution_count": 7,
   "metadata": {
    "collapsed": false
   },
   "outputs": [
    {
     "name": "stderr",
     "output_type": "stream",
     "text": [
      "ERROR: File `u'advanced_python_csv(email_l,.py'` not found.\n"
     ]
    }
   ],
   "source": [
    "run advanced_python_csv(email_l, 'emails.csv')"
   ]
  },
  {
   "cell_type": "code",
   "execution_count": 8,
   "metadata": {
    "collapsed": true
   },
   "outputs": [],
   "source": [
    "run advanced_python_csv.py"
   ]
  },
  {
   "cell_type": "code",
   "execution_count": 9,
   "metadata": {
    "collapsed": false
   },
   "outputs": [
    {
     "data": {
      "text/plain": [
       "['liy3@email.chop.edu',\n",
       " 'mingyao@mail.med.upenn.edu',\n",
       " 'jellenbe@mail.med.upenn.edu',\n",
       " 'bcfrench@mail.med.upenn.edu',\n",
       " 'hongzhe@upenn.edu',\n",
       " 'michross@upenn.edu',\n",
       " 'knashawn@mail.med.upenn.edu',\n",
       " 'hsu9@mail.med.upenn.edu',\n",
       " 'jshults@mail.med.upenn.edu',\n",
       " 'msammel@cceb.med.upenn.edu',\n",
       " 'pgimotty@upenn.edu',\n",
       " 'sratclif@upenn.edu',\n",
       " 'wguo@mail.med.upenn.edu',\n",
       " 'warren@upenn.edu',\n",
       " 'atroxel@mail.med.upenn.edu',\n",
       " 'rlocalio@upenn.edu',\n",
       " 'dxie@upenn.edu',\n",
       " 'jrlandis@mail.med.upenn.edu',\n",
       " 'rhubb@mail.med.upenn.edu',\n",
       " 'rxiao@mail.med.upenn.edu',\n",
       " 'sellenbe@upenn.edu',\n",
       " 'jaroy@mail.med.upenn.edu',\n",
       " 'ruifeng@upenn.edu',\n",
       " 'whwang@mail.med.upenn.edu',\n",
       " 'bryanma@upenn.edu',\n",
       " 'sxie@mail.med.upenn.edu',\n",
       " 'mjoffe@mail.med.upenn.edu',\n",
       " 'rshi@mail.med.upenn.edu',\n",
       " 'jinboche@upenn.edu',\n",
       " 'bellamys@mail.med.upenn.edu',\n",
       " 'weiyang@mail.med.upenn.edu',\n",
       " 'alisaste@mail.med.upenn.edu',\n",
       " 'propert@mail.med.upenn.edu',\n",
       " 'shawp@upenn.edu',\n",
       " 'hshou@mail.med.upenn.edu',\n",
       " 'nanditam@mail.med.upenn.edu',\n",
       " 'mputt@mail.med.upenn.edu']"
      ]
     },
     "execution_count": 9,
     "metadata": {},
     "output_type": "execute_result"
    }
   ],
   "source": [
    "email_l"
   ]
  },
  {
   "cell_type": "code",
   "execution_count": 10,
   "metadata": {
    "collapsed": true
   },
   "outputs": [],
   "source": [
    "write_data(email_l, 'emails.csv')"
   ]
  },
  {
   "cell_type": "code",
   "execution_count": null,
   "metadata": {
    "collapsed": true
   },
   "outputs": [],
   "source": []
  }
 ],
 "metadata": {
  "kernelspec": {
   "display_name": "Python 2",
   "language": "python",
   "name": "python2"
  },
  "language_info": {
   "codemirror_mode": {
    "name": "ipython",
    "version": 2
   },
   "file_extension": ".py",
   "mimetype": "text/x-python",
   "name": "python",
   "nbconvert_exporter": "python",
   "pygments_lexer": "ipython2",
   "version": "2.7.11"
  }
 },
 "nbformat": 4,
 "nbformat_minor": 0
}
